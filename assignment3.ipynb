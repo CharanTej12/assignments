{
  "nbformat": 4,
  "nbformat_minor": 0,
  "metadata": {
    "colab": {
      "provenance": []
    },
    "kernelspec": {
      "name": "python3",
      "display_name": "Python 3"
    },
    "language_info": {
      "name": "python"
    }
  },
  "cells": [
    {
      "cell_type": "code",
      "execution_count": 1,
      "metadata": {
        "colab": {
          "base_uri": "https://localhost:8080/"
        },
        "id": "Eeo3o-w-vOY5",
        "outputId": "98ef1585-74bf-4b28-da05-2edb9f8b35a7"
      },
      "outputs": [
        {
          "output_type": "stream",
          "name": "stdout",
          "text": [
            "Hello World\n"
          ]
        }
      ],
      "source": [
        "str1 = \"Hello\"\n",
        "str2 = \"World\"\n",
        "result = str1 + \" \" + str2\n",
        "print(result)"
      ]
    },
    {
      "cell_type": "code",
      "source": [
        "name = \"Alice\"\n",
        "age = 30\n",
        "print(\"Name: %s, Age: %d\" % (name, age))"
      ],
      "metadata": {
        "colab": {
          "base_uri": "https://localhost:8080/"
        },
        "id": "_r_2GlKCvQCz",
        "outputId": "df7fbe3e-7daa-4a09-9985-2c5ba15e982a"
      },
      "execution_count": 2,
      "outputs": [
        {
          "output_type": "stream",
          "name": "stdout",
          "text": [
            "Name: Alice, Age: 30\n"
          ]
        }
      ]
    },
    {
      "cell_type": "code",
      "source": [
        "name = \"Bob\"\n",
        "age = 25\n",
        "print(\"Name: {}, Age: {}\".format(name, age))"
      ],
      "metadata": {
        "colab": {
          "base_uri": "https://localhost:8080/"
        },
        "id": "Vj39gEs3vQK6",
        "outputId": "360d3e21-78ea-45f5-a1b6-7a8fa82e98f3"
      },
      "execution_count": 3,
      "outputs": [
        {
          "output_type": "stream",
          "name": "stdout",
          "text": [
            "Name: Bob, Age: 25\n"
          ]
        }
      ]
    },
    {
      "cell_type": "code",
      "source": [
        "name = \"Charlie\"\n",
        "age = 35\n",
        "print(f\"Name: {name}, Age: {age}\")"
      ],
      "metadata": {
        "colab": {
          "base_uri": "https://localhost:8080/"
        },
        "id": "zWpv1oakvQNO",
        "outputId": "5a567678-053b-496e-c8e0-b914acfe178c"
      },
      "execution_count": 4,
      "outputs": [
        {
          "output_type": "stream",
          "name": "stdout",
          "text": [
            "Name: Charlie, Age: 35\n"
          ]
        }
      ]
    },
    {
      "cell_type": "code",
      "source": [
        "a = 10\n",
        "b = 5\n",
        "print(\"Addition:\", a + b)\n",
        "print(\"Subtraction:\", a - b)\n",
        "print(\"Multiplication:\", a * b)\n",
        "print(\"Division:\", a / b)\n",
        "print(\"Floor Division:\", a // b)\n",
        "print(\"Exponentiation:\", a ** b)\n",
        "print(\"Modulus:\", a % b)"
      ],
      "metadata": {
        "colab": {
          "base_uri": "https://localhost:8080/"
        },
        "id": "JTRn3NohvQQ0",
        "outputId": "f0e0334a-fc3a-4dce-f1aa-43cf1f5c325f"
      },
      "execution_count": 5,
      "outputs": [
        {
          "output_type": "stream",
          "name": "stdout",
          "text": [
            "Addition: 15\n",
            "Subtraction: 5\n",
            "Multiplication: 50\n",
            "Division: 2.0\n",
            "Floor Division: 2\n",
            "Exponentiation: 100000\n",
            "Modulus: 0\n"
          ]
        }
      ]
    },
    {
      "cell_type": "code",
      "source": [
        "x = 10\n",
        "x -= 5\n",
        "print(x)\n",
        "\n",
        "y = 20\n",
        "y *= 2\n",
        "print(y)\n",
        "\n",
        "z = 30\n",
        "z /= 3\n",
        "print(z)\n",
        "\n",
        "w = 40\n",
        "w **= 2\n",
        "print(w)"
      ],
      "metadata": {
        "colab": {
          "base_uri": "https://localhost:8080/"
        },
        "id": "5URo2-m1vcPC",
        "outputId": "f21ee1f6-3d92-455e-f1b2-3bfb85a99051"
      },
      "execution_count": 6,
      "outputs": [
        {
          "output_type": "stream",
          "name": "stdout",
          "text": [
            "5\n",
            "40\n",
            "10.0\n",
            "1600\n"
          ]
        }
      ]
    }
  ]
}