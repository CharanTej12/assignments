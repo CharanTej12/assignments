{
  "nbformat": 4,
  "nbformat_minor": 0,
  "metadata": {
    "colab": {
      "provenance": []
    },
    "kernelspec": {
      "name": "python3",
      "display_name": "Python 3"
    },
    "language_info": {
      "name": "python"
    }
  },
  "cells": [
    {
      "cell_type": "code",
      "execution_count": 1,
      "metadata": {
        "colab": {
          "base_uri": "https://localhost:8080/"
        },
        "id": "VnbgCI85wwYZ",
        "outputId": "844e1553-6866-4d6e-da48-8ef915d4149f"
      },
      "outputs": [
        {
          "output_type": "stream",
          "name": "stdout",
          "text": [
            "Original: some name\n",
            "Upper: SOME NAME\n",
            "Lower: some name\n",
            "Capitalize: Some name\n",
            "Replace 'e' with 'E': somE namE\n"
          ]
        }
      ],
      "source": [
        "name = \"some name\"\n",
        "print(\"Original:\", name)\n",
        "print(\"Upper:\", name.upper())\n",
        "print(\"Lower:\", name.lower())\n",
        "print(\"Capitalize:\", name.capitalize())\n",
        "print(\"Replace 'e' with 'E':\", name.replace('e', 'E'))"
      ]
    },
    {
      "cell_type": "code",
      "source": [
        "L = [1, 2, 3]\n",
        "print(\"Original List:\", L)\n",
        "L.extend([5, 6, 7])\n",
        "print(\"Extended List:\", L)\n",
        "L.pop(4)  # Remove 5th value\n",
        "print(\"After Removing 5th Value:\", L)"
      ],
      "metadata": {
        "colab": {
          "base_uri": "https://localhost:8080/"
        },
        "id": "PIIRH7gJ45dj",
        "outputId": "c1fbe121-5f07-4f29-bee6-e2b7eecd87ed"
      },
      "execution_count": 2,
      "outputs": [
        {
          "output_type": "stream",
          "name": "stdout",
          "text": [
            "Original List: [1, 2, 3]\n",
            "Extended List: [1, 2, 3, 5, 6, 7]\n",
            "After Removing 5th Value: [1, 2, 3, 5, 7]\n"
          ]
        }
      ]
    },
    {
      "cell_type": "code",
      "source": [
        "d = {'mango': 10, 'banana': 0, 'apple': 15, 'orange': 0, 'pineapple': 20}\n",
        "print(\"Original Dictionary:\", d)\n",
        "d = {key: value for key, value in d.items() if value != 0}  # Remove out of stock fruits\n",
        "print(\"Dictionary after Removing Out of Stock Fruits:\", d)\n",
        "d['mango'] = 15\n",
        "d['pineapple'] -= 5\n",
        "print(\"Updated Dictionary:\", d)"
      ],
      "metadata": {
        "colab": {
          "base_uri": "https://localhost:8080/"
        },
        "id": "wSGTkzx_47cp",
        "outputId": "912b9449-fb48-4d84-e87f-a8036738d00a"
      },
      "execution_count": 3,
      "outputs": [
        {
          "output_type": "stream",
          "name": "stdout",
          "text": [
            "Original Dictionary: {'mango': 10, 'banana': 0, 'apple': 15, 'orange': 0, 'pineapple': 20}\n",
            "Dictionary after Removing Out of Stock Fruits: {'mango': 10, 'apple': 15, 'pineapple': 20}\n",
            "Updated Dictionary: {'mango': 15, 'apple': 15, 'pineapple': 15}\n"
          ]
        }
      ]
    },
    {
      "cell_type": "code",
      "source": [
        "L = [1, 2, 3, 4, 5]\n",
        "print(\"Original List:\", L)\n",
        "L.pop(2)  # Remove element at index 2\n",
        "print(\"After pop(2):\", L)\n",
        "L.remove(4)  # Remove the element 4\n",
        "print(\"After remove(4):\", L)\n"
      ],
      "metadata": {
        "colab": {
          "base_uri": "https://localhost:8080/"
        },
        "id": "abeehh3j5Bk4",
        "outputId": "d5259c1b-33d4-40be-e3a8-c919f93267ea"
      },
      "execution_count": 4,
      "outputs": [
        {
          "output_type": "stream",
          "name": "stdout",
          "text": [
            "Original List: [1, 2, 3, 4, 5]\n",
            "After pop(2): [1, 2, 4, 5]\n",
            "After remove(4): [1, 2, 5]\n"
          ]
        }
      ]
    },
    {
      "cell_type": "code",
      "source": [
        "s = {1, 2, 3, 4, 5}\n",
        "print(\"Original Set:\", s)\n",
        "s.remove(3)  # Remove element 3\n",
        "print(\"After remove(3):\", s)\n"
      ],
      "metadata": {
        "colab": {
          "base_uri": "https://localhost:8080/"
        },
        "id": "c_WBU8-j5HjF",
        "outputId": "2448b3b3-1cc6-4c7d-c54d-dcc61bafd29c"
      },
      "execution_count": 5,
      "outputs": [
        {
          "output_type": "stream",
          "name": "stdout",
          "text": [
            "Original Set: {1, 2, 3, 4, 5}\n",
            "After remove(3): {1, 2, 4, 5}\n"
          ]
        }
      ]
    }
  ]
}