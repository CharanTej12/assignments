{
  "nbformat": 4,
  "nbformat_minor": 0,
  "metadata": {
    "colab": {
      "provenance": []
    },
    "kernelspec": {
      "name": "python3",
      "display_name": "Python 3"
    },
    "language_info": {
      "name": "python"
    }
  },
  "cells": [
    {
      "cell_type": "code",
      "execution_count": 2,
      "metadata": {
        "colab": {
          "base_uri": "https://localhost:8080/"
        },
        "id": "Zj7lRDmY6Qq9",
        "outputId": "46b0a10e-6b45-42e2-abbd-1f3d76cae3bf"
      },
      "outputs": [
        {
          "output_type": "stream",
          "name": "stdout",
          "text": [
            "Original: some name\n",
            "Upper: SOME NAME\n",
            "Lower: some name\n",
            "Capitalize: Some name\n",
            "Replace 'e' with 'E': somE namE\n"
          ]
        }
      ],
      "source": [
        "name = \"some name\"\n",
        "print(\"Original:\", name)\n",
        "print(\"Upper:\", name.upper())\n",
        "print(\"Lower:\", name.lower())\n",
        "print(\"Capitalize:\", name.capitalize())\n",
        "print(\"Replace 'e' with 'E':\", name.replace('e', 'E'))\n"
      ]
    },
    {
      "cell_type": "code",
      "source": [
        "L = [1, 2, 3]\n",
        "print(\"Original List:\", L)\n",
        "L.extend([5, 6, 7])\n",
        "print(\"Extended List:\", L)\n",
        "L.pop(4)  # Remove 5th value\n",
        "print(\"After Removing 5th Value:\", L)\n"
      ],
      "metadata": {
        "colab": {
          "base_uri": "https://localhost:8080/"
        },
        "id": "gHyOrcvH6qMl",
        "outputId": "a871d0c5-48a6-4e10-d7ea-6aafb52e4214"
      },
      "execution_count": 3,
      "outputs": [
        {
          "output_type": "stream",
          "name": "stdout",
          "text": [
            "Original List: [1, 2, 3]\n",
            "Extended List: [1, 2, 3, 5, 6, 7]\n",
            "After Removing 5th Value: [1, 2, 3, 5, 7]\n"
          ]
        }
      ]
    },
    {
      "cell_type": "code",
      "source": [
        "d = {'mango': 10, 'banana': 0, 'apple': 15, 'orange': 0, 'pineapple': 20}\n",
        "print(\"Original Dictionary:\", d)\n",
        "d = {key: value for key, value in d.items() if value != 0}  # Remove out of stock fruits\n",
        "print(\"Dictionary after Removing Out of Stock Fruits:\", d)\n",
        "d['mango'] = 15  # Update mango quantity to 15\n",
        "d['pineapple'] -= 5  # Decrease pineapple by 5\n",
        "print(\"Updated Dictionary:\", d)\n"
      ],
      "metadata": {
        "colab": {
          "base_uri": "https://localhost:8080/"
        },
        "id": "0CxpNEXd6qPO",
        "outputId": "8d68107a-841d-4f83-e1fc-443467658111"
      },
      "execution_count": 4,
      "outputs": [
        {
          "output_type": "stream",
          "name": "stdout",
          "text": [
            "Original Dictionary: {'mango': 10, 'banana': 0, 'apple': 15, 'orange': 0, 'pineapple': 20}\n",
            "Dictionary after Removing Out of Stock Fruits: {'mango': 10, 'apple': 15, 'pineapple': 20}\n",
            "Updated Dictionary: {'mango': 15, 'apple': 15, 'pineapple': 15}\n"
          ]
        }
      ]
    },
    {
      "cell_type": "code",
      "source": [
        "L = [1, 2, 3, 4, 5]\n",
        "print(\"Original List:\", L)\n",
        "L.pop(2)  # Remove element at index 2\n",
        "print(\"After pop(2):\", L)\n",
        "L.remove(4)  # Remove the element 4\n",
        "print(\"After remove(4):\", L)\n"
      ],
      "metadata": {
        "colab": {
          "base_uri": "https://localhost:8080/"
        },
        "id": "jS9yhGlq6qRs",
        "outputId": "0316c2ea-f6cb-46d7-bd75-f9827eedcab2"
      },
      "execution_count": 5,
      "outputs": [
        {
          "output_type": "stream",
          "name": "stdout",
          "text": [
            "Original List: [1, 2, 3, 4, 5]\n",
            "After pop(2): [1, 2, 4, 5]\n",
            "After remove(4): [1, 2, 5]\n"
          ]
        }
      ]
    },
    {
      "cell_type": "code",
      "source": [
        "s = {1, 2, 3, 4, 5}\n",
        "print(\"Original Set:\", s)\n",
        "s.remove(3)  # Remove element 3\n",
        "print(\"After remove(3):\", s)\n"
      ],
      "metadata": {
        "colab": {
          "base_uri": "https://localhost:8080/"
        },
        "id": "Lwl4Ont16qVI",
        "outputId": "700424f3-3519-42ff-e620-dd6ce606558d"
      },
      "execution_count": 6,
      "outputs": [
        {
          "output_type": "stream",
          "name": "stdout",
          "text": [
            "Original Set: {1, 2, 3, 4, 5}\n",
            "After remove(3): {1, 2, 4, 5}\n"
          ]
        }
      ]
    }
  ]
}